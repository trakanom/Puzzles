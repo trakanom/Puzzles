{
 "cells": [
  {
   "cell_type": "code",
   "execution_count": 4,
   "metadata": {},
   "outputs": [
    {
     "name": "stdout",
     "output_type": "stream",
     "text": [
      "12\n"
     ]
    }
   ],
   "source": [
    "def gcd(a,b):\n",
    "    a,b = (b,a) if b>=a else (a,b)\n",
    "    print((b, a%b))\n",
    "    return gcd(b, a%b)\n",
    "gcd(30,72)"
   ]
  }
 ],
 "metadata": {
  "kernelspec": {
   "display_name": "env",
   "language": "python",
   "name": "python3"
  },
  "language_info": {
   "codemirror_mode": {
    "name": "ipython",
    "version": 3
   },
   "file_extension": ".py",
   "mimetype": "text/x-python",
   "name": "python",
   "nbconvert_exporter": "python",
   "pygments_lexer": "ipython3",
   "version": "3.10.6"
  },
  "orig_nbformat": 4,
  "vscode": {
   "interpreter": {
    "hash": "fa237c38d69cc9623f6a4ee91560a5d8e45369fdfc65b6ef816bebb2d76b8d1e"
   }
  }
 },
 "nbformat": 4,
 "nbformat_minor": 2
}
