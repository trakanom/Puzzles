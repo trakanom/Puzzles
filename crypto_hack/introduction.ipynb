{
 "cells": [
  {
   "cell_type": "code",
   "execution_count": null,
   "metadata": {},
   "outputs": [],
   "source": [
    "'''\n",
    "python\n",
    "'''\n",
    "#!/usr/bin/env python3\n",
    "\n",
    "import sys\n",
    "# import this\n",
    "\n",
    "if sys.version_info.major == 2:\n",
    "    print(\"You are running Python 2, which is no longer supported. Please update to Python 3.\")\n",
    "\n",
    "ords = [81, 64, 75, 66, 70, 93, 73, 72, 1, 92, 109, 2, 84, 109, 66, 75, 70, 90, 2, 92, 79]\n",
    "\n",
    "print(\"Here is your flag:\")\n",
    "print(\"\".join(chr(o ^ 0x32) for o in ords))"
   ]
  },
  {
   "cell_type": "code",
   "execution_count": null,
   "metadata": {},
   "outputs": [],
   "source": [
    "'''\n",
    "ascii\n",
    "'''\n",
    "input = [99, 114, 121, 112, 116, 111, 123, 65, 83, 67, 73, 73, 95, 112, 114, 49, 110, 116, 52, 98, 108, 51, 125]\n",
    "output = \"\".join([chr(item) for item in input])\n",
    "print(output)"
   ]
  },
  {
   "cell_type": "code",
   "execution_count": null,
   "metadata": {},
   "outputs": [],
   "source": [
    "'''\n",
    "hex\n",
    "'''\n",
    "input = \"63727970746f7b596f755f77696c6c5f62655f776f726b696e675f776974685f6865785f737472696e67735f615f6c6f747d\"\n",
    "output = bytes.fromhex(input)\n",
    "# output = \"\".join([bytes.fromhex(item) for item in input])\n",
    "\n",
    "print(output)"
   ]
  },
  {
   "cell_type": "code",
   "execution_count": null,
   "metadata": {},
   "outputs": [],
   "source": [
    "\n",
    "import base64\n",
    "input = \"72bca9b68fc16ac7beeb8f849dca1d8a783e8acf9679bf9269f7bf\"\n",
    "decoded = bytes.fromhex(input)\n",
    "encoded = base64.b64encode(decoded)\n",
    "print(encoded)"
   ]
  },
  {
   "cell_type": "code",
   "execution_count": null,
   "metadata": {},
   "outputs": [],
   "source": [
    "from Crypto.Util.number import *\n",
    "'''\n",
    "bytes and big ints\n",
    "'''\n",
    "\n",
    "input = int(\"11515195063862318899931685488813747395775516287289682636499965282714637259206269\")\n",
    "#convert from base-10\n",
    "output = int(input)\n",
    "output = long_to_bytes(input)\n",
    "#convert from base-16\n",
    "#convert to hex lists\n",
    "#convert to ascii bytes\n",
    "#convert to ascii chrs\n",
    "print(output)\n"
   ]
  },
  {
   "cell_type": "code",
   "execution_count": 7,
   "metadata": {},
   "outputs": [
    {
     "name": "stdout",
     "output_type": "stream",
     "text": [
      "[97, 108, 111, 104, 97]\n",
      "['a', 'l', 'o', 'h', 'a']\n",
      "aloha\n"
     ]
    }
   ],
   "source": [
    "'''xor_starter'''\n",
    "input = \"label\"\n",
    "#convert from string to char array\n",
    "#from chars to int\n",
    "#xor with int 13\n",
    "midpoint = [ord(x) ^ 13 for x in input]\n",
    "print(midpoint)\n",
    "#convert back to string\n",
    "output = [chr(x) for x in midpoint]\n",
    "print(output)\n",
    "output = \"\".join(output)\n",
    "print(output)\n"
   ]
  },
  {
   "cell_type": "code",
   "execution_count": 19,
   "metadata": {},
   "outputs": [
    {
     "name": "stdout",
     "output_type": "stream",
     "text": [
      "crypto{x0r_i5_ass0c1at1v3}\n"
     ]
    }
   ],
   "source": [
    "'''\n",
    "XOR Properties\n",
    "'''\n",
    "\n",
    "\n",
    "result1= bytes.fromhex(\"a6c8b6733c9b22de7bc0253266a3867df55acde8635e19c73313\")\n",
    "result2= bytes.fromhex(\"37dcb292030faa90d07eec17e3b1c6d8daf94c35d4c9191a5e1e\") #key2 ^ key1 \n",
    "result3= bytes.fromhex(\"c1545756687e7573db23aa1c3452a098b71a7fbf0fddddde5fc1\") #key2 ^ key3 \n",
    "result4= bytes.fromhex(\"04ee9855208a2cd59091d04767ae47963170d1660df7f56f5faf\") #Flag ^ key1 ^ key3 ^ key2 \n",
    "# After algebra\n",
    "# Flag = result4 ^ result1 ^ result3\n",
    "def xor_strings(item1, item2):\n",
    "    results = [x^y for x,y in zip(item1, item2)]\n",
    "    return results\n",
    "\n",
    "\n",
    "key1 = result1\n",
    "# print(key1.split())\n",
    "key2 = xor_strings(result2,key1) # \n",
    "key3 = xor_strings(result3,key2)\n",
    "Flag = xor_strings(xor_strings(result4,key1),xor_strings(key2, key3))\n",
    "\n",
    "# Flag = xor_strings(result4, xor_strings(result1, result2))\n",
    "answer = \"\".join([chr(item) for item in Flag])\n",
    "\n",
    "print(answer)\n",
    "\n",
    "\n",
    "\n",
    "\n",
    "\n",
    "\n",
    "\n",
    "\n",
    "\n",
    "\n",
    "\n",
    "\n",
    "\n",
    "\n",
    "\n",
    "# inputs = [result2, result3, result4]\n",
    "# decoded = [bytes.fromhex(item) for item in inputs]\n",
    "# test_stuff = [item for item in decoded]\n",
    "# test_stuff\n",
    "\n",
    "# def iterative_decode(input_list):\n",
    "#     '''\n",
    "#     Input list of byte-like objects\n",
    "#     Output XORed result\n",
    "#     '''\n",
    "#     result = b'0'\n",
    "#     for item in input_list:\n",
    "#         result = result ^ item\n",
    "#     return result\n",
    "# answer = iterative_decode(decoded)\n",
    "# answer"
   ]
  },
  {
   "cell_type": "code",
   "execution_count": 71,
   "metadata": {},
   "outputs": [
    {
     "name": "stdout",
     "output_type": "stream",
     "text": [
      "Brute Force result: crypto{0x10_15_my_f4v0ur173_by7e}\n",
      "Key: 16\n"
     ]
    },
    {
     "data": {
      "text/plain": [
       "'crypto{0x10_15_my_f4v0ur173_by7e}'"
      ]
     },
     "execution_count": 71,
     "metadata": {},
     "output_type": "execute_result"
    }
   ],
   "source": [
    "'''favorite byte'''\n",
    "import re\n",
    "input = \"73626960647f6b206821204f21254f7d694f7624662065622127234f726927756d\"\n",
    "input = bytes.fromhex(\"73626960647f6b206821204f21254f7d694f7624662065622127234f726927756d\")\n",
    "# I don't know. Probably brute force it? Look for something legible?\n",
    "def brute_force(input_item, input_range, verbose=None, stop_with_flag=None):\n",
    "    stop_with_flag = True if stop_with_flag is None else False\n",
    "    for byte in input_range:\n",
    "        result = \"\".join([chr(item) for item in [x^byte for x in input]])\n",
    "        if verbose:\n",
    "            print(byte, \"\\t\", result)\n",
    "        if re.search(r\"crypto\", result):\n",
    "            print(\"Brute Force result: {}\\nKey: {}\".format(result, byte) )\n",
    "            if stop_with_flag:\n",
    "                return result\n",
    "def decode_with_key(input_item, input_key, verbose=None):\n",
    "    if not isinstance(input_key, bytes) and isinstance(input_key, str):\n",
    "        input_key=bytes.fromhex(input_key)\n",
    "    print(input_item, input_key, sep=\"\\t\")\n",
    "    result = \"\".join([chr(item) for item in [x^input_key for x in input]])\n",
    "    if verbose:\n",
    "        print(\"Decode results:\", result)\n",
    "    return result\n",
    "def list_of_int_to_str(input_list):\n",
    "    return \"\".join([chr(item) for item in input_list])\n",
    "\n",
    "\n",
    "brute_force(input, range(0,128))\n",
    "# this_input = bytes.fromhex(\"0e0b213f26041e480b26217f27342e175d0e070a3c5b103e2526217f27342e175d0e077e263451150104\")\n",
    "# # decode_with_key(this_input, 10, True)\n"
   ]
  },
  {
   "cell_type": "code",
   "execution_count": 82,
   "metadata": {},
   "outputs": [
    {
     "name": "stdout",
     "output_type": "stream",
     "text": [
      "b\"\\x0e\\x0b!?&\\x04\\x1eH\\x0b&!\\x7f'4.\\x17]\\x0e\\x07\\n<[\\x10>%&!\\x7f'4.\\x17]\\x0e\\x07~&4Q\\x15\\x01\\x04\"\t16\n",
      "Decode results: crypto{0x10_15_my_f4v0ur173_by7e}\n",
      "crypto{0x10_15_my_f4v0ur173_by7e}\n"
     ]
    },
    {
     "data": {
      "text/plain": [
       "'}iH_B{uhc\\x07\\x010\\x06\\x11aj4Aq.Z{u\\\\\\x04\\x01\\x020U]\\tb0'"
      ]
     },
     "execution_count": 82,
     "metadata": {},
     "output_type": "execute_result"
    }
   ],
   "source": [
    "'''you either know, xor you don't'''\n",
    "this_input = bytes.fromhex(\"0e0b213f26041e480b26217f27342e175d0e070a3c5b103e2526217f27342e175d0e077e263451150104\")\n",
    "test_key = bytes.fromhex(\"73626960647f6b206821204f21254f7d694f7624662065622127234f726927756d\")\n",
    "# brute_force(this_input, range(0,1024), verbose=True, stop_with_flag=False)\n",
    "print(decode_with_key(this_input, 16, True))\n",
    "result = xor_strings(this_input, test_key)\n",
    "result = list_of_int_to_str(result)\n",
    "result\n",
    "\n",
    "\n",
    "\n",
    "# a6c8b6733c9b22de7bc0253266a3867df55acde8635e19c73313\n",
    "# 37dcb292030faa90d07eec17e3b1c6d8daf94c35d4c9191a5e1e\n",
    "# c1545756687e7573db23aa1c3452a098b71a7fbf0fddddde5fc1\n",
    "# 04ee9855208a2cd59091d04767ae47963170d1660df7f56f5faf\n",
    "test1 = bytes.fromhex(\"73626960647f6b206821204f21254f7d694f7624662065622127234f726927756d\")\n",
    "test2 = bytes.fromhex(\"0e0b213f26041e480b26217f27342e175d0e070a3c5b103e2526217f27342e175d0e077e263451150104\")\n",
    "list_of_int_to_str(xor_strings(test2, test1))"
   ]
  }
 ],
 "metadata": {
  "kernelspec": {
   "display_name": "env",
   "language": "python",
   "name": "python3"
  },
  "language_info": {
   "codemirror_mode": {
    "name": "ipython",
    "version": 3
   },
   "file_extension": ".py",
   "mimetype": "text/x-python",
   "name": "python",
   "nbconvert_exporter": "python",
   "pygments_lexer": "ipython3",
   "version": "3.10.6"
  },
  "orig_nbformat": 4,
  "vscode": {
   "interpreter": {
    "hash": "fa237c38d69cc9623f6a4ee91560a5d8e45369fdfc65b6ef816bebb2d76b8d1e"
   }
  }
 },
 "nbformat": 4,
 "nbformat_minor": 2
}
